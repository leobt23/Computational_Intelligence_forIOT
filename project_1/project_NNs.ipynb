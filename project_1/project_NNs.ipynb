{
 "cells": [
  {
   "attachments": {},
   "cell_type": "markdown",
   "metadata": {},
   "source": [
    "# Imports"
   ]
  },
  {
   "cell_type": "code",
   "execution_count": 10,
   "metadata": {},
   "outputs": [],
   "source": [
    "import numpy as np\n",
    "import pandas as pd\n",
    "import matplotlib.pyplot as plt\n",
    "import seaborn as sns\n",
    "import sklearn as sk"
   ]
  },
  {
   "attachments": {},
   "cell_type": "markdown",
   "metadata": {},
   "source": [
    "# Dataset"
   ]
  },
  {
   "attachments": {},
   "cell_type": "markdown",
   "metadata": {},
   "source": [
    "## Obtaining the dataset"
   ]
  },
  {
   "cell_type": "code",
   "execution_count": 11,
   "metadata": {},
   "outputs": [],
   "source": [
    "# getting the dataset from the csv file\n",
    "data = pd.read_csv('Lab6-Proj1_Dataset.csv')"
   ]
  },
  {
   "cell_type": "code",
   "execution_count": 12,
   "metadata": {},
   "outputs": [
    {
     "data": {
      "text/html": [
       "<div>\n",
       "<style scoped>\n",
       "    .dataframe tbody tr th:only-of-type {\n",
       "        vertical-align: middle;\n",
       "    }\n",
       "\n",
       "    .dataframe tbody tr th {\n",
       "        vertical-align: top;\n",
       "    }\n",
       "\n",
       "    .dataframe thead th {\n",
       "        text-align: right;\n",
       "    }\n",
       "</style>\n",
       "<table border=\"1\" class=\"dataframe\">\n",
       "  <thead>\n",
       "    <tr style=\"text-align: right;\">\n",
       "      <th></th>\n",
       "      <th>Anchor_Ratio</th>\n",
       "      <th>Transmission_Range</th>\n",
       "      <th>Node_Density</th>\n",
       "      <th>Step_Size</th>\n",
       "      <th>Iterations</th>\n",
       "      <th>ESLE</th>\n",
       "    </tr>\n",
       "  </thead>\n",
       "  <tbody>\n",
       "    <tr>\n",
       "      <th>280</th>\n",
       "      <td>0.15</td>\n",
       "      <td>18.40</td>\n",
       "      <td>0.01</td>\n",
       "      <td>1.0</td>\n",
       "      <td>6</td>\n",
       "      <td>2.420293</td>\n",
       "    </tr>\n",
       "    <tr>\n",
       "      <th>281</th>\n",
       "      <td>0.15</td>\n",
       "      <td>18.40</td>\n",
       "      <td>0.01</td>\n",
       "      <td>1.2</td>\n",
       "      <td>6</td>\n",
       "      <td>2.427482</td>\n",
       "    </tr>\n",
       "    <tr>\n",
       "      <th>282</th>\n",
       "      <td>0.18</td>\n",
       "      <td>26.45</td>\n",
       "      <td>0.01</td>\n",
       "      <td>0.9</td>\n",
       "      <td>6</td>\n",
       "      <td>1.690174</td>\n",
       "    </tr>\n",
       "    <tr>\n",
       "      <th>283</th>\n",
       "      <td>0.18</td>\n",
       "      <td>26.45</td>\n",
       "      <td>0.01</td>\n",
       "      <td>1.0</td>\n",
       "      <td>6</td>\n",
       "      <td>1.707076</td>\n",
       "    </tr>\n",
       "    <tr>\n",
       "      <th>284</th>\n",
       "      <td>0.18</td>\n",
       "      <td>26.45</td>\n",
       "      <td>0.01</td>\n",
       "      <td>1.2</td>\n",
       "      <td>6</td>\n",
       "      <td>1.712146</td>\n",
       "    </tr>\n",
       "  </tbody>\n",
       "</table>\n",
       "</div>"
      ],
      "text/plain": [
       "     Anchor_Ratio  Transmission_Range  Node_Density  Step_Size  Iterations  \\\n",
       "280          0.15               18.40          0.01        1.0           6   \n",
       "281          0.15               18.40          0.01        1.2           6   \n",
       "282          0.18               26.45          0.01        0.9           6   \n",
       "283          0.18               26.45          0.01        1.0           6   \n",
       "284          0.18               26.45          0.01        1.2           6   \n",
       "\n",
       "         ESLE  \n",
       "280  2.420293  \n",
       "281  2.427482  \n",
       "282  1.690174  \n",
       "283  1.707076  \n",
       "284  1.712146  "
      ]
     },
     "execution_count": 12,
     "metadata": {},
     "output_type": "execute_result"
    }
   ],
   "source": [
    "data.tail()"
   ]
  },
  {
   "attachments": {},
   "cell_type": "markdown",
   "metadata": {},
   "source": [
    "### Statistical Analysis of the dataset  "
   ]
  },
  {
   "cell_type": "code",
   "execution_count": 13,
   "metadata": {},
   "outputs": [
    {
     "name": "stdout",
     "output_type": "stream",
     "text": [
      "(285, 6)\n"
     ]
    },
    {
     "data": {
      "text/html": [
       "<div>\n",
       "<style scoped>\n",
       "    .dataframe tbody tr th:only-of-type {\n",
       "        vertical-align: middle;\n",
       "    }\n",
       "\n",
       "    .dataframe tbody tr th {\n",
       "        vertical-align: top;\n",
       "    }\n",
       "\n",
       "    .dataframe thead th {\n",
       "        text-align: right;\n",
       "    }\n",
       "</style>\n",
       "<table border=\"1\" class=\"dataframe\">\n",
       "  <thead>\n",
       "    <tr style=\"text-align: right;\">\n",
       "      <th></th>\n",
       "      <th>Anchor_Ratio</th>\n",
       "      <th>Transmission_Range</th>\n",
       "      <th>Node_Density</th>\n",
       "      <th>Step_Size</th>\n",
       "      <th>Iterations</th>\n",
       "      <th>ESLE</th>\n",
       "    </tr>\n",
       "  </thead>\n",
       "  <tbody>\n",
       "    <tr>\n",
       "      <th>count</th>\n",
       "      <td>285.000000</td>\n",
       "      <td>285.000000</td>\n",
       "      <td>285.000000</td>\n",
       "      <td>285.000000</td>\n",
       "      <td>285.000000</td>\n",
       "      <td>2.850000e+02</td>\n",
       "    </tr>\n",
       "    <tr>\n",
       "      <th>mean</th>\n",
       "      <td>0.207474</td>\n",
       "      <td>20.554737</td>\n",
       "      <td>0.015158</td>\n",
       "      <td>1.033333</td>\n",
       "      <td>37.536842</td>\n",
       "      <td>1.220366e+00</td>\n",
       "    </tr>\n",
       "    <tr>\n",
       "      <th>std</th>\n",
       "      <td>0.065472</td>\n",
       "      <td>3.410259</td>\n",
       "      <td>0.006796</td>\n",
       "      <td>0.124941</td>\n",
       "      <td>24.104881</td>\n",
       "      <td>1.536450e+00</td>\n",
       "    </tr>\n",
       "    <tr>\n",
       "      <th>min</th>\n",
       "      <td>0.140000</td>\n",
       "      <td>17.250000</td>\n",
       "      <td>0.010000</td>\n",
       "      <td>0.900000</td>\n",
       "      <td>6.000000</td>\n",
       "      <td>8.900000e-08</td>\n",
       "    </tr>\n",
       "    <tr>\n",
       "      <th>25%</th>\n",
       "      <td>0.150000</td>\n",
       "      <td>17.250000</td>\n",
       "      <td>0.010000</td>\n",
       "      <td>0.900000</td>\n",
       "      <td>20.000000</td>\n",
       "      <td>7.837210e-01</td>\n",
       "    </tr>\n",
       "    <tr>\n",
       "      <th>50%</th>\n",
       "      <td>0.180000</td>\n",
       "      <td>20.700000</td>\n",
       "      <td>0.010000</td>\n",
       "      <td>1.000000</td>\n",
       "      <td>30.000000</td>\n",
       "      <td>1.054853e+00</td>\n",
       "    </tr>\n",
       "    <tr>\n",
       "      <th>75%</th>\n",
       "      <td>0.300000</td>\n",
       "      <td>23.000000</td>\n",
       "      <td>0.020000</td>\n",
       "      <td>1.200000</td>\n",
       "      <td>60.000000</td>\n",
       "      <td>1.360695e+00</td>\n",
       "    </tr>\n",
       "    <tr>\n",
       "      <th>max</th>\n",
       "      <td>0.300000</td>\n",
       "      <td>28.750000</td>\n",
       "      <td>0.030000</td>\n",
       "      <td>1.200000</td>\n",
       "      <td>90.000000</td>\n",
       "      <td>2.500000e+01</td>\n",
       "    </tr>\n",
       "  </tbody>\n",
       "</table>\n",
       "</div>"
      ],
      "text/plain": [
       "       Anchor_Ratio  Transmission_Range  Node_Density   Step_Size  Iterations  \\\n",
       "count    285.000000          285.000000    285.000000  285.000000  285.000000   \n",
       "mean       0.207474           20.554737      0.015158    1.033333   37.536842   \n",
       "std        0.065472            3.410259      0.006796    0.124941   24.104881   \n",
       "min        0.140000           17.250000      0.010000    0.900000    6.000000   \n",
       "25%        0.150000           17.250000      0.010000    0.900000   20.000000   \n",
       "50%        0.180000           20.700000      0.010000    1.000000   30.000000   \n",
       "75%        0.300000           23.000000      0.020000    1.200000   60.000000   \n",
       "max        0.300000           28.750000      0.030000    1.200000   90.000000   \n",
       "\n",
       "               ESLE  \n",
       "count  2.850000e+02  \n",
       "mean   1.220366e+00  \n",
       "std    1.536450e+00  \n",
       "min    8.900000e-08  \n",
       "25%    7.837210e-01  \n",
       "50%    1.054853e+00  \n",
       "75%    1.360695e+00  \n",
       "max    2.500000e+01  "
      ]
     },
     "execution_count": 13,
     "metadata": {},
     "output_type": "execute_result"
    }
   ],
   "source": [
    "# shape\n",
    "print(data.shape)\n",
    "\n",
    "# quick statistical analysis of the dataset\n",
    "data.describe()"
   ]
  },
  {
   "attachments": {},
   "cell_type": "markdown",
   "metadata": {},
   "source": [
    "General Boxplot"
   ]
  },
  {
   "cell_type": "code",
   "execution_count": 14,
   "metadata": {},
   "outputs": [
    {
     "data": {
      "image/png": "[encoded data removed]",
      "text/plain": [
       "<Figure size 432x288 with 1 Axes>"
      ]
     },
     "metadata": {
      "needs_background": "light"
     },
     "output_type": "display_data"
    }
   ],
   "source": [
    "# generating the boxplot\n",
    "data.boxplot()\n",
    "\n",
    "# setting the plot title and axes labels\n",
    "plt.title('Boxplot of Variables')\n",
    "plt.xlabel('Variables')\n",
    "plt.ylabel('Values')\n",
    "plt.xticks(fontsize=6)\n",
    "\n",
    "# displaying the plot\n",
    "plt.show()"
   ]
  },
  {
   "attachments": {},
   "cell_type": "markdown",
   "metadata": {},
   "source": [
    "Individual Boxplots for better visualization"
   ]
  },
  {
   "cell_type": "code",
   "execution_count": 15,
   "metadata": {},
   "outputs": [
    {
     "data": {
      "image/png": "[encoded data removed]",
      "text/plain": [
       "<Figure size 864x288 with 6 Axes>"
      ]
     },
     "metadata": {
      "needs_background": "light"
     },
     "output_type": "display_data"
    }
   ],
   "source": [
    "# Determine the number of variables\n",
    "num_variables = len(data.columns)\n",
    "\n",
    "# Create subplots\n",
    "fig, axes = plt.subplots(nrows=1, ncols=num_variables, figsize=(12, 4))\n",
    "\n",
    "# Generate individual boxplots for each variable\n",
    "for i, column in enumerate(data.columns):\n",
    "    data.boxplot(column=column, ax=axes[i])\n",
    "    axes[i].set_title(column)\n",
    "\n",
    "# Adjust spacing between subplots\n",
    "plt.tight_layout()\n",
    "\n",
    "# Display the plot\n",
    "plt.show()"
   ]
  },
  {
   "attachments": {},
   "cell_type": "markdown",
   "metadata": {},
   "source": [
    "## Data Preprocessing "
   ]
  },
  {
   "attachments": {},
   "cell_type": "markdown",
   "metadata": {},
   "source": [
    "### Data Cleaning"
   ]
  },
  {
   "attachments": {},
   "cell_type": "markdown",
   "metadata": {},
   "source": [
    "- No incomplete data\n",
    "- Is there noisy data? (no indication for errors, nor outlier, but might there be outliers?)\n",
    "- No inconsistent data\n",
    "- Is there intentional data? (certainly doesn't seem like so)"
   ]
  },
  {
   "cell_type": "code",
   "execution_count": 23,
   "metadata": {},
   "outputs": [
    {
     "name": "stdout",
     "output_type": "stream",
     "text": [
      "Anchor_Ratio          0\n",
      "Transmission_Range    0\n",
      "Node_Density          0\n",
      "Step_Size             0\n",
      "Iterations            0\n",
      "ESLE                  0\n",
      "dtype: int64\n"
     ]
    }
   ],
   "source": [
    "# Verify if there are any missing values\n",
    "print(data.isnull().sum())"
   ]
  },
  {
   "attachments": {},
   "cell_type": "markdown",
   "metadata": {},
   "source": [
    "### Data Integration"
   ]
  },
  {
   "attachments": {},
   "cell_type": "markdown",
   "metadata": {},
   "source": [
    "- combine data from different sources. are there different sources? (don't think so)\n",
    "- any different scale / unit problems? (better check)\n",
    "- any redudant features? (correlation analysis, covariance analysis) (should delve further)"
   ]
  },
  {
   "cell_type": "code",
   "execution_count": 16,
   "metadata": {},
   "outputs": [
    {
     "data": {
      "image/png": "[encoded data removed]",
      "text/plain": [
       "<Figure size 864x576 with 2 Axes>"
      ]
     },
     "metadata": {
      "needs_background": "light"
     },
     "output_type": "display_data"
    }
   ],
   "source": [
    "# correlation analysis of the dataset (Pearson's correlation coefficient)\n",
    "plt.figure(figsize=(12, 8))\n",
    "# with nice colours, such that 0 always corresponds to white\n",
    "colour = sns.color_palette(\"vlag\", as_cmap=True)\n",
    "sns.heatmap(data.corr(), annot=True, cmap=colour)\n",
    "plt.show()\n",
    "\n",
    "# other cmap options are: 'viridis', 'plasma', 'inferno', 'magma', 'cividis'\n",
    "# a colormap such that 0 always corresponds to white is 'coolwarm', 'bwr', 'seismic'"
   ]
  },
  {
   "cell_type": "code",
   "execution_count": null,
   "metadata": {},
   "outputs": [],
   "source": []
  },
  {
   "attachments": {},
   "cell_type": "markdown",
   "metadata": {},
   "source": []
  },
  {
   "attachments": {},
   "cell_type": "markdown",
   "metadata": {},
   "source": [
    "### Data Reduction"
   ]
  },
  {
   "cell_type": "code",
   "execution_count": null,
   "metadata": {},
   "outputs": [],
   "source": []
  },
  {
   "attachments": {},
   "cell_type": "markdown",
   "metadata": {},
   "source": [
    "### Data transformation and data discretization"
   ]
  },
  {
   "cell_type": "code",
   "execution_count": null,
   "metadata": {},
   "outputs": [],
   "source": []
  },
  {
   "attachments": {},
   "cell_type": "markdown",
   "metadata": {},
   "source": [
    "# Creating the models"
   ]
  },
  {
   "cell_type": "code",
   "execution_count": 54,
   "metadata": {},
   "outputs": [
    {
     "name": "stdout",
     "output_type": "stream",
     "text": [
      "Mean Squared Error on Test Data: 0.18272385674085517\n",
      "Coefficient of determination: -0.04\n"
     ]
    },
    {
     "data": {
      "image/png": "[encoded data removed]",
      "text/plain": [
       "<Figure size 432x288 with 1 Axes>"
      ]
     },
     "metadata": {
      "needs_background": "light"
     },
     "output_type": "display_data"
    }
   ],
   "source": [
    "import numpy as np\n",
    "import pandas as pd\n",
    "import matplotlib.pyplot as plt\n",
    "import seaborn as sns\n",
    "import sklearn as sk\n",
    "from sklearn.neural_network import MLPRegressor\n",
    "from sklearn.model_selection import train_test_split\n",
    "from sklearn.metrics import mean_squared_error\n",
    "from sklearn.metrics import r2_score\n",
    "from sklearn.preprocessing import StandardScaler\n",
    "\n",
    "# copy dataset data\n",
    "data_copy = data.copy()\n",
    "\n",
    "# split dataset into input and output variables, y is the last column\n",
    "X = data_copy.iloc[:, :-1]\n",
    "y = data_copy.iloc[:, -1]\n",
    "\n",
    "# Define seed for reproducibility\n",
    "seed = 42\n",
    "\n",
    "# assuming X and y are your data\n",
    "X_train, X_test, y_train, y_test = train_test_split(X, y, test_size=0.2, random_state=seed)\n",
    "\n",
    "# Scale the data\n",
    "scaler = StandardScaler()\n",
    "X_train = scaler.fit_transform(X_train)\n",
    "X_test = scaler.transform(X_test)\n",
    "\n",
    "# create MLPRegressor model\n",
    "model = MLPRegressor(hidden_layer_sizes=(100,), activation='logistic', solver='sgd', \n",
    "                     early_stopping=True)\n",
    "\n",
    "# train the model\n",
    "model.fit(X_train, y_train)\n",
    "\n",
    "# predict on the test data\n",
    "y_pred = model.predict(X_test)\n",
    "\n",
    "# calculate the mean squared error\n",
    "mse = mean_squared_error(y_test, y_pred)\n",
    "print(f\"Mean Squared Error on Test Data: {mse}\")\n",
    "\n",
    "print('Coefficient of determination: %.2f' % r2_score(y_test, y_pred))\n",
    "\n",
    "# plotting the results\n",
    "plt.scatter(y_test, y_pred, color='blue')\n",
    "plt.title('MLP regressor model')\n",
    "plt.xlabel('Actual values')\n",
    "plt.ylabel('Predicted values')\n",
    "plt.show()\n"
   ]
  }
 ],
 "metadata": {
  "kernelspec": {
   "display_name": "base",
   "language": "python",
   "name": "python3"
  },
  "language_info": {
   "codemirror_mode": {
    "name": "ipython",
    "version": 3
   },
   "file_extension": ".py",
   "mimetype": "text/x-python",
   "name": "python",
   "nbconvert_exporter": "python",
   "pygments_lexer": "ipython3",
   "version": "3.9.12"
  },
  "orig_nbformat": 4
 },
 "nbformat": 4,
 "nbformat_minor": 2
}
