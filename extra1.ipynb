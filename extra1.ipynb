{
 "cells": [
  {
   "attachments": {},
   "cell_type": "markdown",
   "metadata": {},
   "source": [
    "#### Calculate micro and macro Precision, Recall, f-Measure and Accuracy for the Confusion Matrix presented in slide 28 of the Experimental Setup slides."
   ]
  },
  {
   "cell_type": "code",
   "execution_count": 32,
   "metadata": {},
   "outputs": [
    {
     "data": {
      "image/png": "[encoded data removed]",
      "text/plain": [
       "<Figure size 288x288 with 1 Axes>"
      ]
     },
     "metadata": {
      "needs_background": "light"
     },
     "output_type": "display_data"
    }
   ],
   "source": [
    "# Calculate micro and macro Precision, Recall, f-Measure and Accuracy for the Confusion Matrix\n",
    "# Input: Confusion Matrix\n",
    "# Output: micro and macro Precision, Recall, f-Measure and Accuracy\n",
    "import numpy as np\n",
    "import matplotlib.pyplot as plt\n",
    "from matplotlib.colors import ListedColormap\n",
    "\n",
    "# Your confusion matrix\n",
    "confusion_matrix = np.array([[12, 22, 21], [25, 998, 15], [5, 15, 32]])\n",
    "\n",
    "# Create a color map with green for diagonal and red for non-diagonal\n",
    "cmap = ListedColormap(['red', 'green'])\n",
    "\n",
    "# Create a mask for the diagonal\n",
    "mask = np.eye(confusion_matrix.shape[0], dtype=bool)\n",
    "\n",
    "plt.matshow(mask, cmap=cmap)\n",
    "\n",
    "# Set the tick labels\n",
    "tick_labels = ['A', 'B', 'C']\n",
    "plt.xticks(range(len(tick_labels)), tick_labels)\n",
    "plt.yticks(range(len(tick_labels)), tick_labels)\n",
    "\n",
    "# Iterate over data and create text annotations\n",
    "for i in range(confusion_matrix.shape[0]):\n",
    "    for j in range(confusion_matrix.shape[1]):\n",
    "        text = plt.text(j, i, confusion_matrix[i, j],\n",
    "                       ha=\"center\", va=\"center\", color=\"black\")\n",
    "\n",
    "plt.xlabel('True Label')\n",
    "plt.ylabel('Predicted Label')\n",
    "plt.title('Confusion Matrix')\n",
    "\n",
    "plt.show()\n",
    "\n",
    "\n",
    "plt.show()"
   ]
  },
  {
   "cell_type": "code",
   "execution_count": 60,
   "metadata": {},
   "outputs": [
    {
     "name": "stdout",
     "output_type": "stream",
     "text": [
      "Micro Precision:  0.9100436681222708\n",
      "Macro Precision:  0.5983435960314573\n",
      "Recall:  0.5735179095792907\n",
      "F-measure:  0.7036126440750234\n",
      "Accuracy:  0.9100436681222708\n"
     ]
    }
   ],
   "source": [
    "# Calculate micro and macro Precision, Recall, f-Measure and Accuracy for the Confusion Matrix\n",
    "\n",
    "# Your code here\n",
    "\n",
    "# Micro Precision - sum of diagonal / sum of all\n",
    "micro_precision = confusion_matrix.diagonal().sum() / confusion_matrix.sum()\n",
    "\n",
    "confusion_matrix.sum()\n",
    "\n",
    "# Macro precision - Precision of A + Precision of B + Precision of C / Number of classes (precicion of A = TP_A / TP_A + FP_A)\n",
    "macro_precision = 0\n",
    "for i in range(confusion_matrix.shape[0]):\n",
    "    for j in range(confusion_matrix.shape[1]):\n",
    "        if i == j:\n",
    "            macro_precision += confusion_matrix[i, j] / confusion_matrix.sum(axis=1)[j]\n",
    "\n",
    "macro_precision /= confusion_matrix.shape[0]\n",
    "\n",
    "# Recall - sum of diagonal / sum of all\n",
    "recall = 0\n",
    "for i in range(confusion_matrix.shape[0]):\n",
    "    for j in range(confusion_matrix.shape[1]):\n",
    "        if i == j:\n",
    "            recall += confusion_matrix[i, j] / confusion_matrix.sum(axis=0)[j]\n",
    "\n",
    "recall /= confusion_matrix.shape[0]\n",
    "\n",
    "\n",
    "# F-measure - 2 * Precision * Recall / Precision + Recall\n",
    "f_measure = 2 * micro_precision * recall / (micro_precision + recall)\n",
    "\n",
    "# Accuracy - sum of diagonal / sum of all\n",
    "accuracy = confusion_matrix.diagonal().sum() / confusion_matrix.sum()\n",
    "\n",
    "print('Micro Precision: ', micro_precision)\n",
    "print('Macro Precision: ', macro_precision)\n",
    "print('Recall: ', recall)\n",
    "print('F-measure: ', f_measure)\n",
    "print('Accuracy: ', accuracy)\n"
   ]
  },
  {
   "attachments": {},
   "cell_type": "markdown",
   "metadata": {},
   "source": [
    "### TODO - It is to calculate micro and macro Recall, micro and macro f-Measure and micro and macro Accuracy for the Confusion Matrix?\n",
    "### TODO - Microprecision and Accuracy are correct?"
   ]
  },
  {
   "cell_type": "code",
   "execution_count": null,
   "metadata": {},
   "outputs": [],
   "source": []
  }
 ],
 "metadata": {
  "kernelspec": {
   "display_name": "base",
   "language": "python",
   "name": "python3"
  },
  "language_info": {
   "codemirror_mode": {
    "name": "ipython",
    "version": 3
   },
   "file_extension": ".py",
   "mimetype": "text/x-python",
   "name": "python",
   "nbconvert_exporter": "python",
   "pygments_lexer": "ipython3",
   "version": "3.9.12"
  },
  "orig_nbformat": 4
 },
 "nbformat": 4,
 "nbformat_minor": 2
}
