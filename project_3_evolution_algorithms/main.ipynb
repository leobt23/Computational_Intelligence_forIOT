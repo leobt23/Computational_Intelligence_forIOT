{
 "cells": [
  {
   "attachments": {},
   "cell_type": "markdown",
   "metadata": {},
   "source": [
    "# Imports"
   ]
  },
  {
   "cell_type": "code",
   "execution_count": 1,
   "metadata": {},
   "outputs": [],
   "source": [
    "import pandas as pd\n",
    "import numpy as np\n",
    "import matplotlib.pyplot as plt"
   ]
  },
  {
   "attachments": {},
   "cell_type": "markdown",
   "metadata": {},
   "source": [
    "# Dataset"
   ]
  },
  {
   "cell_type": "code",
   "execution_count": 7,
   "metadata": {},
   "outputs": [
    {
     "name": "stdout",
     "output_type": "stream",
     "text": [
      "0\n"
     ]
    }
   ],
   "source": [
    "# Load dataset \n",
    "data = pd.read_excel('Project3_DistancesMatrix.xlsx', header=None) # header=None because the first row is not a header\n",
    "\n",
    "# Verify the dataset has missung values\n",
    "print(data.isnull().sum().sum())\n",
    "\n",
    "\n"
   ]
  },
  {
   "attachments": {},
   "cell_type": "markdown",
   "metadata": {},
   "source": [
    "# Models"
   ]
  },
  {
   "cell_type": "code",
   "execution_count": 8,
   "metadata": {},
   "outputs": [],
   "source": [
    "# Parameters\n",
    "POPULATION_SIZE = 100\n",
    "GENOME_LENGTH = 10\n",
    "MUTATION_RATE = 0.01\n",
    "CROSSOVER_RATE = 0.7\n",
    "MAX_GENERATIONS = 50"
   ]
  },
  {
   "cell_type": "code",
   "execution_count": 9,
   "metadata": {},
   "outputs": [
    {
     "name": "stdout",
     "output_type": "stream",
     "text": [
      "Best solution: x = -4.853372434017595, f(x) = 23.555223983281877\n"
     ]
    }
   ],
   "source": [
    "# Fitness function\n",
    "def fitness(genome):\n",
    "    x = genome_to_x(genome)\n",
    "    return x**2\n",
    "\n",
    "# Convert binary string to decimal value of x\n",
    "def genome_to_x(genome):\n",
    "    max_val = 2**GENOME_LENGTH - 1\n",
    "    return -5 + genome * 10 / max_val\n",
    "\n",
    "# Genetic operators\n",
    "def mutate(genome):\n",
    "    for i in range(GENOME_LENGTH):\n",
    "        if np.random.random() < MUTATION_RATE:\n",
    "            genome ^= (1 << i)  # Flip the bit at position i\n",
    "    return genome\n",
    "\n",
    "def crossover(parent1, parent2):\n",
    "    if np.random.random() < CROSSOVER_RATE:\n",
    "        crossover_point = np.random.randint(0, GENOME_LENGTH)\n",
    "        mask = (1 << crossover_point) - 1  # Mask to perform crossover\n",
    "        temp = parent1\n",
    "        parent1 = (parent1 & mask) | (parent2 & ~mask)\n",
    "        parent2 = (temp & ~mask) | (parent2 & mask)\n",
    "    return parent1, parent2\n",
    "\n",
    "# Create initial population\n",
    "population = np.random.randint(0, 2**GENOME_LENGTH, POPULATION_SIZE)\n",
    "\n",
    "# Main loop\n",
    "for generation in range(MAX_GENERATIONS):\n",
    "    # Compute fitness values\n",
    "    fitness_values = np.array([fitness(g) for g in population])\n",
    "\n",
    "    # Select parents (proportional to fitness)\n",
    "    parents_indices = np.random.choice(\n",
    "        POPULATION_SIZE, size=(POPULATION_SIZE, 2),\n",
    "        p=fitness_values/np.sum(fitness_values)\n",
    "    )\n",
    "\n",
    "    # Create next generation\n",
    "    next_generation = []\n",
    "    for i in range(POPULATION_SIZE // 2):\n",
    "        parent1, parent2 = population[parents_indices[i]]\n",
    "        offspring1, offspring2 = crossover(parent1, parent2)\n",
    "        next_generation.extend([mutate(offspring1), mutate(offspring2)])\n",
    "    \n",
    "    population = np.array(next_generation)\n",
    "\n",
    "# Find and print best solution\n",
    "best_genome = population[np.argmax(fitness_values)]\n",
    "best_x = genome_to_x(best_genome)\n",
    "print(f\"Best solution: x = {best_x}, f(x) = {fitness(best_genome)}\")"
   ]
  }
 ],
 "metadata": {
  "kernelspec": {
   "display_name": "base",
   "language": "python",
   "name": "python3"
  },
  "language_info": {
   "codemirror_mode": {
    "name": "ipython",
    "version": 3
   },
   "file_extension": ".py",
   "mimetype": "text/x-python",
   "name": "python",
   "nbconvert_exporter": "python",
   "pygments_lexer": "ipython3",
   "version": "3.9.12"
  },
  "orig_nbformat": 4
 },
 "nbformat": 4,
 "nbformat_minor": 2
}
