{
 "cells": [
  {
   "cell_type": "code",
   "execution_count": 12,
   "metadata": {},
   "outputs": [
    {
     "name": "stdout",
     "output_type": "stream",
     "text": [
      "0.028037383177570093\n"
     ]
    },
    {
     "name": "stderr",
     "output_type": "stream",
     "text": [
      "c:\\Users\\leo_b\\anaconda3\\lib\\site-packages\\skfuzzy\\control\\fuzzyvariable.py:122: UserWarning: Matplotlib is currently using module://matplotlib_inline.backend_inline, which is a non-GUI backend, so cannot show the figure.\n",
      "  fig.show()\n"
     ]
    },
    {
     "data": {
      "image/png": "[encoded data removed]",
      "text/plain": [
       "<Figure size 432x288 with 1 Axes>"
      ]
     },
     "metadata": {
      "needs_background": "light"
     },
     "output_type": "display_data"
    }
   ],
   "source": [
    "import numpy as np\n",
    "import skfuzzy as fuzz\n",
    "from skfuzzy import control as ctrl\n",
    "\n",
    "# Definir as variáveis de entrada\n",
    "memory_usage = ctrl.Antecedent(np.arange(0, 101, 1), 'memory_usage')\n",
    "processor_load = ctrl.Antecedent(np.arange(0, 101, 1), 'processor_load')\n",
    "output_bandwidth = ctrl.Antecedent(np.arange(0, 101, 1), 'output_bandwidth')\n",
    "latency = ctrl.Antecedent(np.arange(0, 1001, 1), 'latency')\n",
    "#input_network_throughput = ctrl.Antecedent(np.arange(0, 101, 1), 'input_network_throughput')\n",
    "#output_network_throughput = ctrl.Antecedent(np.arange(0, 101, 1), 'output_network_throughput')\n",
    "\n",
    "# Definir a variável de saída\n",
    "clp_variation = ctrl.Consequent(np.arange(-1, 1.01, 0.01), 'clp_variation')\n",
    "\n",
    "\n",
    "# Definir as funções de pertinência para cada variável\n",
    "# Note: Os intervalos de pertinência e os termos usados podem variar dependendo do problema específico\n",
    "memory_usage.automf(3, names=['low', 'medium', 'high'])\n",
    "processor_load.automf(3, names=['low', 'medium', 'high'])\n",
    "#input_network_throughput.automf(3, names=['low', 'medium', 'high'])\n",
    "#output_network_throughput.automf(3, names=['low', 'medium', 'high'])\n",
    "output_bandwidth.automf(3, names=['low', 'medium', 'high'])\n",
    "latency.automf(3, names=['low', 'medium', 'high'])\n",
    "\n",
    "# Agora, defina as funções de pertinência para a variável de saída\n",
    "clp_variation['decrease'] = fuzz.trimf(clp_variation.universe, [-1  , -0.5, 0  ])\n",
    "clp_variation['maintain'] = fuzz.trimf(clp_variation.universe, [-0.5, 0   , 0.5])\n",
    "clp_variation['increase'] = fuzz.trimf(clp_variation.universe, [0   , 0.5 , 1  ])\n",
    "\n",
    "\n",
    "rule1a = ctrl.Rule(memory_usage['high'] | processor_load['high'], clp_variation['decrease'])\n",
    "rule1a.weight = 3\n",
    "rule1b = ctrl.Rule(memory_usage['low'] | processor_load['low'] , clp_variation['increase'])\n",
    "rule1b.weight = 3     \n",
    "rule1c = ctrl.Rule(memory_usage['low'] & processor_load['low'], clp_variation['increase'])\n",
    "rule1c.weight = 3\n",
    "rule1d = ctrl.Rule(memory_usage['medium'] & processor_load['medium'], clp_variation['maintain'])\n",
    "rule1c.weight = 3\n",
    "\n",
    "rule2a = ctrl.Rule(latency['high'] , clp_variation['increase'])\n",
    "rule2a.weight = 2\n",
    "rule2b = ctrl.Rule(latency['low'], clp_variation['decrease'])\n",
    "rule2b.weight = 2\n",
    "rule2c = ctrl.Rule(latency['medium'], clp_variation['maintain'])\n",
    "rule2c.weight = 2\n",
    "\n",
    "\n",
    "rule3a = ctrl.Rule(output_bandwidth['low'] , clp_variation['decrease'])\n",
    "rule3a.weight = 1\n",
    "rule3b = ctrl.Rule(output_bandwidth['high'], clp_variation['increase'])\n",
    "rule3b.weight = 1\n",
    "rule3c = ctrl.Rule(output_bandwidth['medium'], clp_variation['maintain'])\n",
    "rule3c.weight = 1\n",
    "\n",
    "clp_ctrl = ctrl.ControlSystem([rule1a, rule1b, rule1c, rule1d, rule2a, rule2b, rule2c, rule3a, rule3b, rule3c])\n",
    "\n",
    "# Criar o simulador\n",
    "clp_simulator = ctrl.ControlSystemSimulation(clp_ctrl)\n",
    "\n",
    "# Atualizar as variáveis \n",
    "clp_simulator.input['memory_usage'] = 10\n",
    "clp_simulator.input['processor_load'] = 10\n",
    "#clp_simulator.input['input_network_throughput'] = 50\n",
    "#clp_simulator.input['output_network_throughput'] = 40\n",
    "clp_simulator.input['output_bandwidth'] = 30\n",
    "clp_simulator.input['latency'] = 200\n",
    "\n",
    "# Executar a simulação\n",
    "clp_simulator.compute()\n",
    "\n",
    "print(clp_simulator.output['clp_variation'])\n",
    "\n",
    "# Ver o resultado da simulação de clp_variation, e o que sugere\n",
    "clp_variation.view(sim=clp_simulator)"
   ]
  },
  {
   "attachments": {},
   "cell_type": "markdown",
   "metadata": {},
   "source": [
    "Example of how to create an \"over time\" FIS:"
   ]
  },
  {
   "cell_type": "code",
   "execution_count": 26,
   "metadata": {},
   "outputs": [
    {
     "data": {
      "text/plain": [
       "\"\\n# Assume inputs_over_time is a list of dictionaries, where each dictionary contains the input values for one time step\\ninputs_over_time = [{'memory_usage': 70, 'processor_load': 60, 'input_network_throughput': 50, 'output_bandwidth': 30, 'latency': 200}, ...]\\n\\nfor inputs in inputs_over_time:\\n    # Update variables\\n    for variable_name, value in inputs.items():\\n        clp_simulator.input[variable_name] = value\\n\\n    # Run simulation\\n    clp_simulator.compute()\\n\\n    print(clp_simulator.output['clp_variation'])\\n\\n\""
      ]
     },
     "execution_count": 26,
     "metadata": {},
     "output_type": "execute_result"
    }
   ],
   "source": [
    "\"\"\"\n",
    "# Assume inputs_over_time is a list of dictionaries, where each dictionary contains the input values for one time step\n",
    "inputs_over_time = [{'memory_usage': 70, 'processor_load': 60, 'input_network_throughput': 50, 'output_bandwidth': 30, 'latency': 200}, ...]\n",
    "\n",
    "for inputs in inputs_over_time:\n",
    "    # Update variables\n",
    "    for variable_name, value in inputs.items():\n",
    "        clp_simulator.input[variable_name] = value\n",
    "\n",
    "    # Run simulation\n",
    "    clp_simulator.compute()\n",
    "\n",
    "    print(clp_simulator.output['clp_variation'])\n",
    "\n",
    "\"\"\""
   ]
  },
  {
   "cell_type": "code",
   "execution_count": null,
   "metadata": {},
   "outputs": [],
   "source": []
  }
 ],
 "metadata": {
  "kernelspec": {
   "display_name": "base",
   "language": "python",
   "name": "python3"
  },
  "language_info": {
   "codemirror_mode": {
    "name": "ipython",
    "version": 3
   },
   "file_extension": ".py",
   "mimetype": "text/x-python",
   "name": "python",
   "nbconvert_exporter": "python",
   "pygments_lexer": "ipython3",
   "version": "3.9.12"
  },
  "orig_nbformat": 4
 },
 "nbformat": 4,
 "nbformat_minor": 2
}
