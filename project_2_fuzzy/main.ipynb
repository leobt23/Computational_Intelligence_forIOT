{
 "cells": [
  {
   "cell_type": "code",
   "execution_count": 6,
   "metadata": {},
   "outputs": [
    {
     "name": "stdout",
     "output_type": "stream",
     "text": [
      "-0.5\n"
     ]
    }
   ],
   "source": [
    "import numpy as np\n",
    "import skfuzzy as fuzz\n",
    "from skfuzzy import control as ctrl\n",
    "\n",
    "# Definir as variáveis de entrada\n",
    "memory_usage = ctrl.Antecedent(np.arange(0, 101, 1), 'memory_usage')\n",
    "processor_load = ctrl.Antecedent(np.arange(0, 101, 1), 'processor_load')\n",
    "input_network_throughput = ctrl.Antecedent(np.arange(0, 101, 1), 'input_network_throughput')\n",
    "output_bandwidth = ctrl.Antecedent(np.arange(0, 101, 1), 'output_bandwidth')\n",
    "latency = ctrl.Antecedent(np.arange(0, 1001, 1), 'latency')\n",
    "\n",
    "# Definir a variável de saída\n",
    "clp_variation = ctrl.Consequent(np.arange(-1, 1.01, 0.01), 'clp_variation')\n",
    "\n",
    "\n",
    "# Definir as funções de pertinência para cada variável\n",
    "# Note: Os intervalos de pertinência e os termos usados podem variar dependendo do problema específico\n",
    "memory_usage.automf(3, names=['low', 'medium', 'high'])\n",
    "processor_load.automf(3, names=['low', 'medium', 'high'])\n",
    "input_network_throughput.automf(3, names=['low', 'medium', 'high'])\n",
    "output_bandwidth.automf(3, names=['low', 'medium', 'high'])\n",
    "latency.automf(3, names=['low', 'medium', 'high'])\n",
    "\n",
    "# Agora, defina as funções de pertinência para a variável de saída\n",
    "clp_variation['decrease'] = fuzz.trimf(clp_variation.universe, [-1, -0.5, 0])\n",
    "clp_variation['maintain'] = fuzz.trimf(clp_variation.universe, [-0.5, 0, 0.5])\n",
    "clp_variation['increase'] = fuzz.trimf(clp_variation.universe, [0, 0.5, 1])\n",
    "\n",
    "\n",
    "# Definir as regras\n",
    "rules = [\n",
    "    ctrl.Rule(memory_usage['high'] | processor_load['high'], clp_variation['decrease']),\n",
    "    ctrl.Rule(input_network_throughput['low'] & output_bandwidth['high'], clp_variation['increase']),\n",
    "    # Adicione mais regras conforme \n",
    "]\n",
    "\n",
    "# Criar o sistema de controlo\n",
    "clp_control_system = ctrl.ControlSystem(rules)\n",
    "\n",
    "# Criar o simulador\n",
    "clp_simulator = ctrl.ControlSystemSimulation(clp_control_system)\n",
    "\n",
    "# Atualizar as variáveis \n",
    "clp_simulator.input['memory_usage'] = 70\n",
    "clp_simulator.input['processor_load'] = 60\n",
    "clp_simulator.input['input_network_throughput'] = 50\n",
    "clp_simulator.input['output_bandwidth'] = 30\n",
    "#clp_simulator.input['latency'] = 200\n",
    "\n",
    "# Executar a simulação\n",
    "clp_simulator.compute()\n",
    "\n",
    "print(clp_simulator.output['clp_variation'])\n"
   ]
  }
 ],
 "metadata": {
  "kernelspec": {
   "display_name": "base",
   "language": "python",
   "name": "python3"
  },
  "language_info": {
   "codemirror_mode": {
    "name": "ipython",
    "version": 3
   },
   "file_extension": ".py",
   "mimetype": "text/x-python",
   "name": "python",
   "nbconvert_exporter": "python",
   "pygments_lexer": "ipython3",
   "version": "3.10.9"
  },
  "orig_nbformat": 4
 },
 "nbformat": 4,
 "nbformat_minor": 2
}
